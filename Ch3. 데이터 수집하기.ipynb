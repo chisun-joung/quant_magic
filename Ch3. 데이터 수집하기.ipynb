{
 "cells": [
  {
   "cell_type": "code",
   "execution_count": null,
   "metadata": {},
   "outputs": [],
   "source": [
    "# [코드 3.1] requests 모듈 임포트 하기 (CH3. 데이터 수집하기.ipynb)\n",
    "\n",
    "import requests"
   ]
  },
  {
   "cell_type": "code",
   "execution_count": null,
   "metadata": {},
   "outputs": [],
   "source": [
    "# [코드 3.2] 네이버 메인 페이지로 요청 보내기 (CH3. 데이터 수집하기.ipynb)\n",
    "\n",
    "naver_url = 'https://www.naver.com/'\n",
    "naver_response = requests.get(naver_url)"
   ]
  },
  {
   "cell_type": "code",
   "execution_count": null,
   "metadata": {},
   "outputs": [],
   "source": [
    "# [코드 3.3] 응답으로 받은 데이터에서 코드 찾기 (CH3. 데이터 수집하기.ipynb)\n",
    "\n",
    "naver_response.text"
   ]
  },
  {
   "cell_type": "code",
   "execution_count": null,
   "metadata": {},
   "outputs": [],
   "source": [
    "# [코드 3.4] 뷰티풀스프 모듈 임포트하고 뷰티풀스프 형 데이터 만들기 (CH3. 데이터 수집하기.ipynb)\n",
    "\n",
    "\n",
    "import bs4\n",
    "\n",
    "naver_bs = bs4.BeautifulSoup(naver_response.text, 'lxml')"
   ]
  },
  {
   "cell_type": "code",
   "execution_count": null,
   "metadata": {},
   "outputs": [],
   "source": [
    "# [코드 3.5] find 메소드로 원하는 내용 찾기 (CH3. 데이터 수집하기.ipynb)\n",
    "\n",
    "naver_bs.find('a', class_='issue')"
   ]
  },
  {
   "cell_type": "code",
   "execution_count": null,
   "metadata": {},
   "outputs": [],
   "source": [
    "# [코드 3.6] find로 찾은 결과에서 내용만 보기 (CH3. 데이터 수집하기.ipynb)\n",
    "\n",
    "result = naver_bs.find('a', class_='issue')\n",
    "result.text"
   ]
  },
  {
   "cell_type": "code",
   "execution_count": null,
   "metadata": {},
   "outputs": [],
   "source": [
    "# [코드 3.7] find_all 메소드로 원하는 내용 모두 찾기 (CH3. 데이터 수집하기.ipynb)\n",
    "\n",
    "naver_bs.find_all('a', class_='issue')"
   ]
  },
  {
   "cell_type": "code",
   "execution_count": null,
   "metadata": {},
   "outputs": [],
   "source": [
    "# [코드 3.8] find_all 결과에서 내용만 가져오기 (CH3. 데이터 수집하기.ipynb)\n",
    "\n",
    "result_list = naver_bs.find_all('a', class_='issue')\n",
    "\n",
    "for span in result_list:\n",
    "    print(span.text)"
   ]
  },
  {
   "cell_type": "code",
   "execution_count": null,
   "metadata": {},
   "outputs": [],
   "source": [
    "# [코드 3.9] 재무제표 페이지에서 테이블들 찾아오기 (CH3. 데이터 수집하기.ipynb)\n",
    "\n",
    "import pandas as pd\n",
    "\n",
    "fs_url = 'https://comp.fnguide.com/SVO2/asp/SVD_Finance.asp?pGB=1&gicode=A005930&cID=&MenuYn=Y&ReportGB=D&NewMenuID=103&stkGb=701'\n",
    "fs_page = requests.get(fs_url)\n",
    "fs_tables = pd.read_html(fs_page.text)"
   ]
  },
  {
   "cell_type": "code",
   "execution_count": null,
   "metadata": {
    "collapsed": true
   },
   "outputs": [],
   "source": [
    "fs_url = 'https://comp.fnguide.com/SVO2/asp/SVD_Finance.asp?pGB=1&gicode=A005930&cID=&MenuYn=Y&ReportGB=&NewMenuID=103&stkGb=701'\n",
    "fs_page = requests.get(fs_url)\n",
    "fs_tables = pd.read_html(fs_page.text)\n",
    "fs_tables[0]"
   ]
  },
  {
   "cell_type": "code",
   "execution_count": null,
   "metadata": {
    "collapsed": true
   },
   "outputs": [],
   "source": [
    "# [코드 3.10] 포괄손익계산서(연간) 데이터프레임 가져오기 (CH3. 데이터 수집하기.ipynb)\n",
    "\n",
    "fs_tables[0]"
   ]
  },
  {
   "cell_type": "code",
   "execution_count": null,
   "metadata": {},
   "outputs": [],
   "source": [
    "# [코드 3.11] 포괄손익계산서(연간) 데이터프레임 인덱스와 컬럼 개선하기 (CH3. 데이터 수집하기.ipynb)\n",
    "\n",
    "temp_df = fs_tables[0]\n",
    "temp_df =  temp_df.set_index('IFRS(연결)')\n",
    "temp_df = temp_df.iloc[:, :4] "
   ]
  },
  {
   "cell_type": "code",
   "execution_count": null,
   "metadata": {},
   "outputs": [],
   "source": [
    "# [코드 3.12] 포괄손익계산서(연간) 데이터프레임에서 사용할 행만 남기기 (CH3. 데이터 수집하기.ipynb)\n",
    "\n",
    "temp_df = temp_df.loc[['매출액', '영업이익', '당기순이익']]"
   ]
  },
  {
   "cell_type": "code",
   "execution_count": null,
   "metadata": {},
   "outputs": [],
   "source": [
    "temp_df"
   ]
  },
  {
   "cell_type": "code",
   "execution_count": null,
   "metadata": {},
   "outputs": [],
   "source": [
    "# [코드 3.13] 재무상태표와 현금흐름표 데이터프레임 정리 (CH3. 데이터 수집하기.ipynb)\n",
    "\n",
    "temp_df2 = fs_tables[2]\n",
    "temp_df2 = temp_df2.set_index('IFRS(연결)')\n",
    "temp_df2 = temp_df2.loc[['자산', '부채', '자본']]\n",
    "\n",
    "temp_df3 = fs_tables[4]\n",
    "temp_df3 = temp_df3.set_index('IFRS(연결)')\n",
    "temp_df3 = temp_df3.loc[['영업활동으로인한현금흐름']]"
   ]
  },
  {
   "cell_type": "code",
   "execution_count": null,
   "metadata": {
    "scrolled": true
   },
   "outputs": [],
   "source": [
    "# [코드 3.14] 재무제표 페이지의 데이터프레임들 이어 붙이기 (CH3. 데이터 수집하기.ipynb)\n",
    "\n",
    "fs_df = pd.concat([temp_df, temp_df2, temp_df3])"
   ]
  },
  {
   "cell_type": "code",
   "execution_count": null,
   "metadata": {},
   "outputs": [],
   "source": [
    "# [코드 3.15] 재무제표 데이터를 가져와 데이터프레임으로 만드는 함수 (CH3. 데이터 수집하기.ipynb)\n",
    "\n",
    "def make_fs_dataframe(firm_code):\n",
    "    fs_url = 'https://comp.fnguide.com/SVO2/asp/SVD_Finance.asp?pGB=1&cID=&MenuYn=Y&ReportGB=D&NewMenuID=103&stkGb=701&gicode=' + firm_code\n",
    "    fs_page = requests.get(fs_url)\n",
    "    fs_tables = pd.read_html(fs_page.text)\n",
    "\n",
    "    # fs_bs = bs4.BeautifulSoup(fs_page.text, 'lxml')    \n",
    "    # firm_name = fs_bs.find('h1', id='giName')\n",
    "    temp_df = fs_tables[0]\n",
    "    temp_df = temp_df.set_index(temp_df.columns[0])\n",
    "    temp_df = temp_df[temp_df.columns[:4]]\n",
    "    temp_df = temp_df.loc[['매출액', '영업이익', '당기순이익']]\n",
    "\n",
    "    temp_df2 = fs_tables[2]\n",
    "    temp_df2 = temp_df2.set_index(temp_df2.columns[0])\n",
    "    temp_df2 = temp_df2.loc[['자산', '부채', '자본']]\n",
    "\n",
    "    temp_df3 = fs_tables[4]\n",
    "    temp_df3 = temp_df3.set_index(temp_df3.columns[0])\n",
    "    temp_df3 = temp_df3.loc[['영업활동으로인한현금흐름']]\n",
    "\n",
    "    fs_df = pd.concat([temp_df, temp_df2, temp_df3])\n",
    "    \n",
    "    return fs_df #, firm_name.text"
   ]
  },
  {
   "cell_type": "code",
   "execution_count": null,
   "metadata": {},
   "outputs": [],
   "source": [
    "# [코드 3.16] make_fs_dataframe 함수를 이용하여 현대차 재무제표 데이터프레임 만들기 (CH3. 데이터 수집하기.ipynb)\n",
    "\n",
    "test = make_fs_dataframe('A005380')"
   ]
  },
  {
   "cell_type": "code",
   "execution_count": null,
   "metadata": {},
   "outputs": [],
   "source": [
    "test"
   ]
  },
  {
   "cell_type": "code",
   "execution_count": null,
   "metadata": {},
   "outputs": [],
   "source": [
    "# [코드 3.17] 앞에서 완성한 데이터프레임 회사코드 넣어서 형태 바꾸기 (CH3. 데이터 수집하기.ipynb)\n",
    "\n",
    "code = 'A005930'\n",
    "fs_df = make_fs_dataframe(code)\n",
    "col = fs_df.columns[0]\n",
    "temp_df = pd.DataFrame({code : fs_df[col]})\n",
    "temp_df = temp_df.T\n",
    "temp_df.columns = [[col]*len(fs_df), temp_df.columns]"
   ]
  },
  {
   "cell_type": "code",
   "execution_count": null,
   "metadata": {},
   "outputs": [],
   "source": [
    "temp_df"
   ]
  },
  {
   "cell_type": "code",
   "execution_count": null,
   "metadata": {},
   "outputs": [],
   "source": [
    "# [코드 3.18] 데이터프레임 형태 바꾸기 완성 (CH3. 데이터 수집하기.ipynb)\n",
    "\n",
    "code = 'A005930'\n",
    "fs_df = make_fs_dataframe(code)\n",
    "\n",
    "for num, col in enumerate(fs_df.columns):\n",
    "    temp_df = pd.DataFrame({code : fs_df[col]})\n",
    "    temp_df = temp_df.T\n",
    "    temp_df.columns = [[col]*len(fs_df), temp_df.columns]\n",
    "    if num == 0:\n",
    "        total_df = temp_df\n",
    "    else:\n",
    "        total_df = pd.merge(total_df, temp_df, how='outer', left_index=True, right_index=True)    "
   ]
  },
  {
   "cell_type": "code",
   "execution_count": null,
   "metadata": {},
   "outputs": [],
   "source": [
    "total_df"
   ]
  },
  {
   "cell_type": "code",
   "execution_count": null,
   "metadata": {},
   "outputs": [],
   "source": [
    "# [코드 3.19] 데이터프레임 형태 바꾸기 코드 함수화 (CH3. 데이터 수집하기.ipynb)\n",
    "\n",
    "def change_df(firm_code, dataframe):\n",
    "    for num, col in enumerate(dataframe.columns):\n",
    "        temp_df = pd.DataFrame({firm_code : dataframe[col]})\n",
    "        temp_df = temp_df.T\n",
    "        temp_df.columns = [[col]*len(dataframe), temp_df.columns]\n",
    "        if num == 0:\n",
    "            total_df = temp_df\n",
    "        else:\n",
    "            total_df = pd.merge(total_df, temp_df, how='outer', left_index=True, right_index=True)    \n",
    "    \n",
    "    return total_df"
   ]
  },
  {
   "cell_type": "code",
   "execution_count": null,
   "metadata": {},
   "outputs": [],
   "source": [
    "# [코드 3.20] 5개 회사의 재무제표 데이터 가져와서 합쳐보기 (CH3. 데이터 수집하기.ipynb)\n",
    "\n",
    "firmcode_list = ['A005930', 'A005380', 'A035420', 'A003550', 'A034730']\n",
    "\n",
    "for num, code in enumerate(firmcode_list):\n",
    "    fs_df = make_fs_dataframe(code)\n",
    "    fs_df_changed = change_df(code, fs_df)\n",
    "    if num == 0 :\n",
    "        total_fs = fs_df_changed\n",
    "    else:\n",
    "        total_fs = pd.concat([total_fs, fs_df_changed])"
   ]
  },
  {
   "cell_type": "code",
   "execution_count": null,
   "metadata": {},
   "outputs": [],
   "source": [
    "total_fs"
   ]
  },
  {
   "cell_type": "code",
   "execution_count": null,
   "metadata": {},
   "outputs": [],
   "source": [
    "# [코드 3.21] 재무 비율 데이터프레임을 만드는 함수 (CH3. 데이터 수집하기.ipynb)\n",
    "\n",
    "def make_fr_dataframe(firm_code):\n",
    "    fr_url = 'https://comp.fnguide.com/SVO2/asp/SVD_FinanceRatio.asp?pGB=1&cID=&MenuYn=Y&ReportGB=D&NewMenuID=104&stkGb=701&gicode=' + firm_code\n",
    "    fr_page = requests.get(fr_url)\n",
    "    fr_tables = pd.read_html(fr_page.text)\n",
    "    # fr_bs = bs4.BeautifulSoup(fr_page.text, 'lxml')    \n",
    "    # firm_name = fr_bs.find('h1', id='giName')\n",
    "    temp_df = fr_tables[0]\n",
    "    temp_df = temp_df.set_index(temp_df.columns[0])\n",
    "    temp_df = temp_df.loc[['유동비율계산에 참여한 계정 펼치기',\n",
    "                           '부채비율계산에 참여한 계정 펼치기',\n",
    "                           '영업이익률계산에 참여한 계정 펼치기',\n",
    "                           'ROA계산에 참여한 계정 펼치기',\n",
    "                           'ROIC계산에 참여한 계정 펼치기']]\n",
    "    temp_df.index = ['유동비율', '부채비율', '영업이익률', 'ROA', 'ROIC']\n",
    "    return temp_df#, firm_name.text"
   ]
  },
  {
   "cell_type": "code",
   "execution_count": null,
   "metadata": {},
   "outputs": [],
   "source": [
    "make_fr_dataframe('A005930')"
   ]
  },
  {
   "cell_type": "code",
   "execution_count": null,
   "metadata": {},
   "outputs": [],
   "source": [
    "# [코드 3.22] 5개 회사의 재무비율 데이터 가져와서 합쳐보기 (CH3. 데이터 수집하기.ipynb)\n",
    "\n",
    "firmcode_list = ['A005930', 'A005380', 'A035420', 'A003550', 'A034730']\n",
    "\n",
    "for num, code in enumerate(firmcode_list):\n",
    "    fr_df = make_fr_dataframe(code)\n",
    "    fr_df_changed = change_df(code, fr_df)\n",
    "    if num == 0 :\n",
    "        total_fr = fr_df_changed\n",
    "    else:\n",
    "        total_fr = pd.concat([total_fr, fr_df_changed])"
   ]
  },
  {
   "cell_type": "code",
   "execution_count": null,
   "metadata": {},
   "outputs": [],
   "source": [
    "total_fr"
   ]
  },
  {
   "cell_type": "code",
   "execution_count": null,
   "metadata": {},
   "outputs": [],
   "source": [
    "# [코드 3.23] 투자지표 데이터프레임을 만드는 함수 (CH3. 데이터 수집하기.ipynb)\n",
    "\n",
    "def make_invest_dataframe(firm_code):\n",
    "    invest_url = 'https://comp.fnguide.com/SVO2/asp/SVD_Invest.asp?pGB=1&cID=&MenuYn=Y&ReportGB=D&NewMenuID=105&stkGb=701&gicode=' + firm_code\n",
    "    invest_page = requests.get(invest_url)\n",
    "    invest_tables = pd.read_html(invest_page.text)\n",
    "    # invest_bs = bs4.BeautifulSoup(invest_page.text, 'lxml')    \n",
    "    # firm_name = invest_bs.find('h1', id='giName')\n",
    "    temp_df = invest_tables[1]\n",
    "    \n",
    "    temp_df = temp_df.set_index(temp_df.columns[0])\n",
    "    temp_df = temp_df.loc[['PER계산에 참여한 계정 펼치기',\n",
    "                           'PCR계산에 참여한 계정 펼치기',\n",
    "                           'PSR계산에 참여한 계정 펼치기',\n",
    "                           'PBR계산에 참여한 계정 펼치기',\n",
    "                          '총현금흐름']]\n",
    "    temp_df.index = ['PER', 'PCR', 'PSR', 'PBR', '총현금흐름']\n",
    "    return temp_df#, firm_name.text"
   ]
  },
  {
   "cell_type": "code",
   "execution_count": null,
   "metadata": {},
   "outputs": [],
   "source": [
    "make_invest_dataframe('A005930')"
   ]
  },
  {
   "cell_type": "code",
   "execution_count": null,
   "metadata": {},
   "outputs": [],
   "source": [
    "# [코드 3.24] 5개 회사의 투자지표 데이터 가져와서 합쳐보기 (CH3. 데이터 수집하기.ipynb)\n",
    "\n",
    "firmcode_list = ['A005930', 'A005380', 'A035420', 'A003550', 'A034730']\n",
    "\n",
    "for num, code in enumerate(firmcode_list):\n",
    "    invest_df = make_invest_dataframe(code)\n",
    "    invest_df_changed = change_df(code, invest_df)\n",
    "    if num == 0 :\n",
    "        total_invest = invest_df_changed \n",
    "    else:\n",
    "        total_invest = pd.concat([total_invest, invest_df_changed])"
   ]
  },
  {
   "cell_type": "code",
   "execution_count": null,
   "metadata": {},
   "outputs": [],
   "source": [
    "total_invest"
   ]
  },
  {
   "cell_type": "code",
   "execution_count": null,
   "metadata": {
    "scrolled": false
   },
   "outputs": [],
   "source": [
    "# [코드 3.25] 다운받은 종목 엑셀파일 읽어오기 (CH3. 데이터 수집하기.ipynb)\n",
    "\n",
    "path = r'C:\\quant_magic\\주식 책 데이터\\data.xls'\n",
    "code_data = pd.read_excel(path)\n",
    "code_data = code_data[['종목코드', '기업명']]"
   ]
  },
  {
   "cell_type": "code",
   "execution_count": null,
   "metadata": {},
   "outputs": [],
   "source": [
    "# [코드 3.26] 종목코드 컬럼 개선 (CH3. 데이터 수집하기.ipynb)\n",
    "\n",
    "def make_code(x):\n",
    "    x = str(x)\n",
    "    return 'A' + '0' * (6-len(x)) + x\n",
    "\n",
    "code_data['종목코드'] = code_data['종목코드'].apply(make_code)"
   ]
  },
  {
   "cell_type": "code",
   "execution_count": null,
   "metadata": {
    "collapsed": true
   },
   "outputs": [],
   "source": [
    "# [코드 3.27] 모든 종목에 대해서 재무제표 데이터 가져오기 (CH3. 데이터 수집하기.ipynb)\n",
    "\n",
    "import time\n",
    "\n",
    "for num, code in enumerate(code_data['종목코드']):\n",
    "    try:\n",
    "        print(num, code)\n",
    "        time.sleep(1)\n",
    "        try:\n",
    "            fs_df = make_fs_dataframe(code)\n",
    "        except requests.exceptions.Timeout:\n",
    "            time.sleep(60)\n",
    "            fs_df = make_fs_dataframe(code)\n",
    "        fs_df_changed = change_df(code, fs_df)\n",
    "        if num == 0 :\n",
    "            total_fs = fs_df_changed\n",
    "        else:\n",
    "            total_fs = pd.concat([total_fs, fs_df_changed])\n",
    "    except ValueError:\n",
    "        continue\n",
    "    except KeyError:\n",
    "        continue"
   ]
  },
  {
   "cell_type": "markdown",
   "metadata": {},
   "source": [
    "total_fs"
   ]
  },
  {
   "cell_type": "code",
   "execution_count": null,
   "metadata": {},
   "outputs": [],
   "source": [
    "# [코드 3.28] 재무제표 데이터 엑셀로 저장 (CH3. 데이터 수집하기.ipynb)\n",
    "\n",
    "total_fs.to_excel(r'C:\\quant_magic\\주식 책 데이터\\재무제표데이터_220206.xlsx')"
   ]
  },
  {
   "cell_type": "code",
   "execution_count": null,
   "metadata": {},
   "outputs": [],
   "source": [
    "# [코드 3.29] 모든 종목에 대해서 재무비율 데이터 가져오기 (CH3. 데이터 수집하기.ipynb)\n",
    "\n",
    "for num, code in enumerate(code_data['종목코드']):\n",
    "    try:\n",
    "        print(num, code)\n",
    "        time.sleep(1)\n",
    "        try:\n",
    "            fr_df = make_fr_dataframe(code)\n",
    "        except requests.exceptions.Timeout:\n",
    "            time.sleep(60)\n",
    "            fr_df = make_fr_dataframe(code)\n",
    "        fr_df_changed = change_df(code, fr_df)\n",
    "        if num == 0 :\n",
    "            total_fr = fr_df_changed\n",
    "        else:\n",
    "            total_fr = pd.concat([total_fr, fr_df_changed])\n",
    "    except ValueError:\n",
    "        continue\n",
    "    except KeyError:\n",
    "        continue"
   ]
  },
  {
   "cell_type": "code",
   "execution_count": null,
   "metadata": {},
   "outputs": [],
   "source": [
    "# [코드 3.30] 재무비율 데이터 엑셀로 저장 (CH3. 데이터 수집하기.ipynb)\n",
    "\n",
    "total_fr.to_excel(r'C:\\quant_magic\\주식 책 데이터\\재무비율데이터_220206.xlsx')"
   ]
  },
  {
   "cell_type": "code",
   "execution_count": null,
   "metadata": {
    "collapsed": true
   },
   "outputs": [],
   "source": [
    "# [코드 3.31] 모든 종목에 대해서 투자지표 데이터 가져오기 (CH3. 데이터 수집하기.ipynb)\n",
    "\n",
    "for num, code in enumerate(code_data['종목코드'][313:]):\n",
    "    try:\n",
    "        print(num, code)\n",
    "        time.sleep(1)\n",
    "        try:\n",
    "            invest_df = make_invest_dataframe(code)\n",
    "        except requests.exceptions.Timeout:\n",
    "            time.sleep(60)\n",
    "            invest_df = make_invest_dataframe(code)\n",
    "        invest_df_changed = change_df(code, invest_df)\n",
    "        if num == 0 :\n",
    "            total_invest = invest_df_changed\n",
    "        else:\n",
    "            total_invest = pd.concat([total_invest, invest_df_changed])\n",
    "    except ValueError:\n",
    "        continue\n",
    "    except KeyError:\n",
    "        continue"
   ]
  },
  {
   "cell_type": "code",
   "execution_count": null,
   "metadata": {},
   "outputs": [],
   "source": [
    "# [코드 3.32] 투자지표 데이터 엑셀로 저장 (CH3. 데이터 수집하기.ipynb)\n",
    "\n",
    "total_invest.to_excel(r'C:\\quant_magic\\주식 책 데이터\\투자지표데이터_220206.xlsx')"
   ]
  },
  {
   "cell_type": "code",
   "execution_count": null,
   "metadata": {},
   "outputs": [],
   "source": []
  }
 ],
 "metadata": {
  "kernelspec": {
   "display_name": "Python 3",
   "language": "python",
   "name": "python3"
  },
  "language_info": {
   "codemirror_mode": {
    "name": "ipython",
    "version": 3
   },
   "file_extension": ".py",
   "mimetype": "text/x-python",
   "name": "python",
   "nbconvert_exporter": "python",
   "pygments_lexer": "ipython3",
   "version": "3.7.11"
  }
 },
 "nbformat": 4,
 "nbformat_minor": 2
}
